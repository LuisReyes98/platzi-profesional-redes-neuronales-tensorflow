{
 "cells": [
  {
   "cell_type": "markdown",
   "metadata": {},
   "source": [
    "# Cargar multiples datasets"
   ]
  },
  {
   "cell_type": "code",
   "execution_count": 1,
   "metadata": {},
   "outputs": [],
   "source": [
    "import os\n",
    "import zipfile"
   ]
  },
  {
   "cell_type": "code",
   "execution_count": 4,
   "metadata": {},
   "outputs": [
    {
     "name": "stdout",
     "output_type": "stream",
     "text": [
      "--2023-09-17 23:01:56--  https://storage.googleapis.com/platzi-tf2/databasesLoadData.zip\n",
      "Resolving storage.googleapis.com (storage.googleapis.com)... 142.250.189.155, 142.250.64.251, 142.250.217.187, ...\n",
      "Connecting to storage.googleapis.com (storage.googleapis.com)|142.250.189.155|:443... connected.\n",
      "HTTP request sent, awaiting response... 200 OK\n",
      "Length: 71662510 (68M) [application/zip]\n",
      "Saving to: ‘./databasesLoadData.zip’\n",
      "\n",
      "./databasesLoadData 100%[===================>]  68.34M  33.7MB/s    in 2.0s    \n",
      "\n",
      "2023-09-17 23:01:58 (33.7 MB/s) - ‘./databasesLoadData.zip’ saved [71662510/71662510]\n",
      "\n"
     ]
    }
   ],
   "source": [
    "!wget --no-check-certificate https://storage.googleapis.com/platzi-tf2/databasesLoadData.zip \\\n",
    "    -O ./databasesLoadData.zip"
   ]
  },
  {
   "cell_type": "code",
   "execution_count": 5,
   "metadata": {},
   "outputs": [],
   "source": [
    "local_zip = './databasesLoadData.zip'\n",
    "\n",
    "zip_ref = zipfile.ZipFile(local_zip, 'r')\n",
    "\n",
    "zip_ref.extractall('./databasesLoadData')\n",
    "zip_ref.close()"
   ]
  },
  {
   "cell_type": "code",
   "execution_count": null,
   "metadata": {},
   "outputs": [],
   "source": [
    "import json\n",
    "import codecs\n",
    "import requests\n",
    "import numpy as np\n",
    "from PIL import Image\n",
    "from io import BytesIO\n",
    "%matplotlib inline\n",
    "import matplotlib.pyplot as plt\n"
   ]
  }
 ],
 "metadata": {
  "kernelspec": {
   "display_name": "tf",
   "language": "python",
   "name": "python3"
  },
  "language_info": {
   "codemirror_mode": {
    "name": "ipython",
    "version": 3
   },
   "file_extension": ".py",
   "mimetype": "text/x-python",
   "name": "python",
   "nbconvert_exporter": "python",
   "pygments_lexer": "ipython3",
   "version": "3.9.16"
  },
  "orig_nbformat": 4
 },
 "nbformat": 4,
 "nbformat_minor": 2
}
